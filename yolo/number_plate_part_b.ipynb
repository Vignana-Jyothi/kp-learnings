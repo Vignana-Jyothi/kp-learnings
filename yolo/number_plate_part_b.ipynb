{
 "cells": [
  {
   "cell_type": "code",
   "execution_count": null,
   "metadata": {},
   "outputs": [],
   "source": [
    "import os\n",
    "import cv2\n",
    "import pytesseract\n",
    "from PIL import Image\n",
    "import numpy as np \n",
    "\n",
    "# Directory containing the number plate images\n",
    "input_dir = 'number_plates'\n",
    "output_dir = 'extracted_texts'\n",
    "os.makedirs(output_dir, exist_ok=True)\n",
    "\n",
    "# Ensure Tesseract is installed on your system\n",
    "# You may need to set the tesseract_cmd if it's not in your PATH\n",
    "# pytesseract.pytesseract.tesseract_cmd = r'/usr/local/bin/tesseract'  # Example path for Unix\n",
    "# pytesseract.pytesseract.tesseract_cmd = r'C:\\Program Files\\Tesseract-OCR\\tesseract.exe'  # Example path for Windows\n",
    "\n",
    "# List all files in the directory\n",
    "files = [f for f in os.listdir(input_dir) if os.path.isfile(os.path.join(input_dir, f))]\n",
    "\n",
    "# Function to perform OCR on an image\n",
    "def extract_text_from_image(image_path):\n",
    "    # Load the image\n",
    "    image = Image.open(image_path)\n",
    "    \n",
    "    # Convert the image to grayscale (optional but often improves OCR results)\n",
    "    gray_image = cv2.cvtColor(np.array(image), cv2.COLOR_BGR2GRAY)\n",
    "    \n",
    "    # Perform OCR using pytesseract\n",
    "    text = pytesseract.image_to_string(gray_image, config='--psm 8')\n",
    "    \n",
    "    return text.strip()\n"
   ]
  },
  {
   "cell_type": "code",
   "execution_count": null,
   "metadata": {},
   "outputs": [],
   "source": [
    "\n",
    "# Iterate over each file and extract text\n",
    "for file_name in files:\n",
    "    file_path = os.path.join(input_dir, file_name)\n",
    "    \n",
    "    # Extract text from the image\n",
    "    text = extract_text_from_image(file_path)\n",
    "    \n",
    "    # Print the extracted text\n",
    "    print(f'Text from {file_name}: {text}')\n",
    "    \n",
    "    # Save the extracted text to a file\n",
    "    output_file_path = os.path.join(output_dir, f'{os.path.splitext(file_name)[0]}.txt')\n",
    "    with open(output_file_path, 'w') as output_file:\n",
    "        output_file.write(text)\n",
    "\n",
    "print('Text extraction complete.')\n"
   ]
  }
 ],
 "metadata": {
  "kernelspec": {
   "display_name": "kpenv",
   "language": "python",
   "name": "python3"
  },
  "language_info": {
   "codemirror_mode": {
    "name": "ipython",
    "version": 3
   },
   "file_extension": ".py",
   "mimetype": "text/x-python",
   "name": "python",
   "nbconvert_exporter": "python",
   "pygments_lexer": "ipython3",
   "version": "3.8.19"
  }
 },
 "nbformat": 4,
 "nbformat_minor": 2
}
