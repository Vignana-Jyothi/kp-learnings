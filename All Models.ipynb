{
 "cells": [
  {
   "cell_type": "code",
   "execution_count": null,
   "id": "131b2f11-b66c-4276-8945-9358e1fb2c1d",
   "metadata": {},
   "outputs": [],
   "source": [
    "# Repeat for other models as needed\n",
    "# results = small_model(img)\n",
    "# results = medium_model(img)\n",
    "# results = large_model(img)\n",
    "# results = extra_large_model(img)\n",
    "\n"
   ]
  },
  {
   "cell_type": "code",
   "execution_count": null,
   "id": "29c328d3-7f64-4a8d-b13f-fe2e967a13c5",
   "metadata": {},
   "outputs": [],
   "source": [
    "# Import YOLOv8 from the ultralytics package\n",
    "from ultralytics import YOLO\n",
    "\n",
    "\n",
    "# Load different YOLOv8 models\n",
    "nano_model = YOLO('yolov8n.pt')\n",
    "\n",
    "    "
   ]
  },
  {
   "cell_type": "code",
   "execution_count": null,
   "id": "a13974c4-75c0-4fa8-a8ee-56965753c35b",
   "metadata": {},
   "outputs": [],
   "source": [
    "small_model = YOLO('yolov8s.pt')\n"
   ]
  },
  {
   "cell_type": "code",
   "execution_count": null,
   "id": "cf67e229-cd2a-4c67-b7a1-50f5fbfd4805",
   "metadata": {},
   "outputs": [],
   "source": [
    "medium_model = YOLO('yolov8m.pt')\n"
   ]
  },
  {
   "cell_type": "code",
   "execution_count": null,
   "id": "7fbcd67a-77f2-4a5d-b81f-847539492530",
   "metadata": {},
   "outputs": [],
   "source": [
    "large_model = YOLO('yolov8l.pt')\n",
    "        "
   ]
  },
  {
   "cell_type": "code",
   "execution_count": null,
   "id": "ec996867-6435-423d-a55c-b38044c467ff",
   "metadata": {},
   "outputs": [],
   "source": [
    "extra_large_model = YOLO('yolov8x.pt')\n"
   ]
  },
  {
   "cell_type": "code",
   "execution_count": null,
   "id": "58961ec1-40d0-4242-880f-d4af3eb2602b",
   "metadata": {},
   "outputs": [],
   "source": [
    "\n",
    "\n",
    "model = small_model\n",
    "img = 'input/sample_image.jpg'  # Replace with your image path\n",
    "\n",
    "# Perform inference\n",
    "results = model(img)\n",
    "\n",
    "\n",
    "# Since results is a list, you can iterate through it or access the first element\n",
    "for result in results:\n",
    "    # Print results\n",
    "    print(\"Printing Result\")\n",
    "    print(result)\n",
    "\n",
    "    # Show the results\n",
    "    result.show()\n"
   ]
  },
  {
   "cell_type": "code",
   "execution_count": null,
   "id": "99dd22d9-f8c6-488f-92e3-a295036d5618",
   "metadata": {},
   "outputs": [],
   "source": []
  }
 ],
 "metadata": {
  "kernelspec": {
   "display_name": "Python 3 (ipykernel)",
   "language": "python",
   "name": "python3"
  },
  "language_info": {
   "codemirror_mode": {
    "name": "ipython",
    "version": 3
   },
   "file_extension": ".py",
   "mimetype": "text/x-python",
   "name": "python",
   "nbconvert_exporter": "python",
   "pygments_lexer": "ipython3",
   "version": "3.8.19"
  }
 },
 "nbformat": 4,
 "nbformat_minor": 5
}
