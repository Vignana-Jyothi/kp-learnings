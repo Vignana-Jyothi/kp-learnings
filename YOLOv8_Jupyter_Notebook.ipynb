{
 "cells": [
  {
   "cell_type": "code",
   "execution_count": 1,
   "id": "945b2870-e15a-4d4c-ba0a-c6bcc0774c3f",
   "metadata": {},
   "outputs": [
    {
     "name": "stdout",
     "output_type": "stream",
     "text": [
      "Downloading https://github.com/ultralytics/assets/releases/download/v8.2.0/yolov8n.pt to 'yolov8n.pt'...\n"
     ]
    },
    {
     "name": "stderr",
     "output_type": "stream",
     "text": [
      "100%|████████████████████████████████████████████████████████████████████████████████████████████████████████████████████████████████████████████| 6.23M/6.23M [00:00<00:00, 20.1MB/s]\n"
     ]
    }
   ],
   "source": [
    "# Import YOLOv8 from the ultralytics package\n",
    "from ultralytics import YOLO\n",
    "\n",
    "# Load a pretrained YOLOv8 model (you can also train your own model)\n",
    "model = YOLO('yolov8n.pt')  # You can change 'yolov8n.pt' to other versions like 'yolov8s.pt', 'yolov8m.pt', etc.\n",
    "\n"
   ]
  },
  {
   "cell_type": "code",
   "execution_count": 3,
   "id": "be42485e-eb90-4bc3-bfc5-d17a0533a251",
   "metadata": {},
   "outputs": [
    {
     "name": "stdout",
     "output_type": "stream",
     "text": [
      "\n",
      "image 1/1 /home/kp/kp-learnings/input/sample_image.jpg: 480x640 41 cars, 4 trucks, 92.2ms\n",
      "Speed: 1.5ms preprocess, 92.2ms inference, 1.2ms postprocess per image at shape (1, 3, 480, 640)\n"
     ]
    }
   ],
   "source": [
    "# Load an image\n",
    "img = 'input/sample_image.jpg'  # Replace with your image path\n",
    "\n",
    "# Perform inference\n",
    "results = model(img)\n"
   ]
  },
  {
   "cell_type": "code",
   "execution_count": 9,
   "id": "fcb7484e-0131-4971-b8ac-6805674e1c88",
   "metadata": {},
   "outputs": [
    {
     "name": "stdout",
     "output_type": "stream",
     "text": [
      "Printing Result\n",
      "ultralytics.engine.results.Results object with attributes:\n",
      "\n",
      "boxes: ultralytics.engine.results.Boxes object\n",
      "keypoints: None\n",
      "masks: None\n",
      "names: {0: 'person', 1: 'bicycle', 2: 'car', 3: 'motorcycle', 4: 'airplane', 5: 'bus', 6: 'train', 7: 'truck', 8: 'boat', 9: 'traffic light', 10: 'fire hydrant', 11: 'stop sign', 12: 'parking meter', 13: 'bench', 14: 'bird', 15: 'cat', 16: 'dog', 17: 'horse', 18: 'sheep', 19: 'cow', 20: 'elephant', 21: 'bear', 22: 'zebra', 23: 'giraffe', 24: 'backpack', 25: 'umbrella', 26: 'handbag', 27: 'tie', 28: 'suitcase', 29: 'frisbee', 30: 'skis', 31: 'snowboard', 32: 'sports ball', 33: 'kite', 34: 'baseball bat', 35: 'baseball glove', 36: 'skateboard', 37: 'surfboard', 38: 'tennis racket', 39: 'bottle', 40: 'wine glass', 41: 'cup', 42: 'fork', 43: 'knife', 44: 'spoon', 45: 'bowl', 46: 'banana', 47: 'apple', 48: 'sandwich', 49: 'orange', 50: 'broccoli', 51: 'carrot', 52: 'hot dog', 53: 'pizza', 54: 'donut', 55: 'cake', 56: 'chair', 57: 'couch', 58: 'potted plant', 59: 'bed', 60: 'dining table', 61: 'toilet', 62: 'tv', 63: 'laptop', 64: 'mouse', 65: 'remote', 66: 'keyboard', 67: 'cell phone', 68: 'microwave', 69: 'oven', 70: 'toaster', 71: 'sink', 72: 'refrigerator', 73: 'book', 74: 'clock', 75: 'vase', 76: 'scissors', 77: 'teddy bear', 78: 'hair drier', 79: 'toothbrush'}\n",
      "obb: None\n",
      "orig_img: array([[[220, 201, 188],\n",
      "        [220, 201, 188],\n",
      "        [220, 201, 188],\n",
      "        ...,\n",
      "        [230, 207, 191],\n",
      "        [229, 209, 192],\n",
      "        [229, 209, 192]],\n",
      "\n",
      "       [[220, 201, 188],\n",
      "        [220, 201, 188],\n",
      "        [220, 201, 188],\n",
      "        ...,\n",
      "        [230, 207, 191],\n",
      "        [228, 208, 191],\n",
      "        [228, 208, 191]],\n",
      "\n",
      "       [[220, 201, 188],\n",
      "        [220, 201, 188],\n",
      "        [219, 200, 187],\n",
      "        ...,\n",
      "        [229, 206, 190],\n",
      "        [227, 207, 190],\n",
      "        [227, 207, 190]],\n",
      "\n",
      "       ...,\n",
      "\n",
      "       [[ 90,  91,  89],\n",
      "        [ 89,  90,  88],\n",
      "        [ 88,  89,  87],\n",
      "        ...,\n",
      "        [131, 133, 133],\n",
      "        [130, 132, 132],\n",
      "        [119, 121, 121]],\n",
      "\n",
      "       [[ 88,  89,  87],\n",
      "        [ 88,  89,  87],\n",
      "        [ 88,  89,  87],\n",
      "        ...,\n",
      "        [118, 122, 123],\n",
      "        [126, 130, 131],\n",
      "        [126, 130, 131]],\n",
      "\n",
      "       [[ 88,  89,  87],\n",
      "        [ 88,  89,  87],\n",
      "        [ 88,  89,  87],\n",
      "        ...,\n",
      "        [ 93,  98,  99],\n",
      "        [102, 106, 107],\n",
      "        [122, 126, 127]]], dtype=uint8)\n",
      "orig_shape: (864, 1200)\n",
      "path: '/home/kp/kp-learnings/input/sample_image.jpg'\n",
      "probs: None\n",
      "save_dir: '/home/kp/runs/detect/predict'\n",
      "speed: {'preprocess': 1.4972686767578125, 'inference': 92.17953681945801, 'postprocess': 1.1854171752929688}\n"
     ]
    }
   ],
   "source": [
    "\n",
    "# Since results is a list, you can iterate through it or access the first element\n",
    "for result in results:\n",
    "    # Print results\n",
    "    print(\"Printing Result\")\n",
    "    print(result)\n",
    "\n",
    "    # Show the results\n",
    "    result.show()\n",
    "\n",
    "    "
   ]
  },
  {
   "cell_type": "code",
   "execution_count": 11,
   "id": "ea5fe632-b0a6-421a-aa10-df43f9d46ec3",
   "metadata": {},
   "outputs": [
    {
     "name": "stdout",
     "output_type": "stream",
     "text": [
      "ultralytics.engine.results.Results object with attributes:\n",
      "\n",
      "boxes: ultralytics.engine.results.Boxes object\n",
      "keypoints: None\n",
      "masks: None\n",
      "names: {0: 'person', 1: 'bicycle', 2: 'car', 3: 'motorcycle', 4: 'airplane', 5: 'bus', 6: 'train', 7: 'truck', 8: 'boat', 9: 'traffic light', 10: 'fire hydrant', 11: 'stop sign', 12: 'parking meter', 13: 'bench', 14: 'bird', 15: 'cat', 16: 'dog', 17: 'horse', 18: 'sheep', 19: 'cow', 20: 'elephant', 21: 'bear', 22: 'zebra', 23: 'giraffe', 24: 'backpack', 25: 'umbrella', 26: 'handbag', 27: 'tie', 28: 'suitcase', 29: 'frisbee', 30: 'skis', 31: 'snowboard', 32: 'sports ball', 33: 'kite', 34: 'baseball bat', 35: 'baseball glove', 36: 'skateboard', 37: 'surfboard', 38: 'tennis racket', 39: 'bottle', 40: 'wine glass', 41: 'cup', 42: 'fork', 43: 'knife', 44: 'spoon', 45: 'bowl', 46: 'banana', 47: 'apple', 48: 'sandwich', 49: 'orange', 50: 'broccoli', 51: 'carrot', 52: 'hot dog', 53: 'pizza', 54: 'donut', 55: 'cake', 56: 'chair', 57: 'couch', 58: 'potted plant', 59: 'bed', 60: 'dining table', 61: 'toilet', 62: 'tv', 63: 'laptop', 64: 'mouse', 65: 'remote', 66: 'keyboard', 67: 'cell phone', 68: 'microwave', 69: 'oven', 70: 'toaster', 71: 'sink', 72: 'refrigerator', 73: 'book', 74: 'clock', 75: 'vase', 76: 'scissors', 77: 'teddy bear', 78: 'hair drier', 79: 'toothbrush'}\n",
      "obb: None\n",
      "orig_img: array([[[220, 201, 188],\n",
      "        [220, 201, 188],\n",
      "        [220, 201, 188],\n",
      "        ...,\n",
      "        [230, 207, 191],\n",
      "        [229, 209, 192],\n",
      "        [229, 209, 192]],\n",
      "\n",
      "       [[220, 201, 188],\n",
      "        [220, 201, 188],\n",
      "        [220, 201, 188],\n",
      "        ...,\n",
      "        [230, 207, 191],\n",
      "        [228, 208, 191],\n",
      "        [228, 208, 191]],\n",
      "\n",
      "       [[220, 201, 188],\n",
      "        [220, 201, 188],\n",
      "        [219, 200, 187],\n",
      "        ...,\n",
      "        [229, 206, 190],\n",
      "        [227, 207, 190],\n",
      "        [227, 207, 190]],\n",
      "\n",
      "       ...,\n",
      "\n",
      "       [[ 90,  91,  89],\n",
      "        [ 89,  90,  88],\n",
      "        [ 88,  89,  87],\n",
      "        ...,\n",
      "        [131, 133, 133],\n",
      "        [130, 132, 132],\n",
      "        [119, 121, 121]],\n",
      "\n",
      "       [[ 88,  89,  87],\n",
      "        [ 88,  89,  87],\n",
      "        [ 88,  89,  87],\n",
      "        ...,\n",
      "        [118, 122, 123],\n",
      "        [126, 130, 131],\n",
      "        [126, 130, 131]],\n",
      "\n",
      "       [[ 88,  89,  87],\n",
      "        [ 88,  89,  87],\n",
      "        [ 88,  89,  87],\n",
      "        ...,\n",
      "        [ 93,  98,  99],\n",
      "        [102, 106, 107],\n",
      "        [122, 126, 127]]], dtype=uint8)\n",
      "orig_shape: (864, 1200)\n",
      "path: '/home/kp/kp-learnings/input/sample_image.jpg'\n",
      "probs: None\n",
      "save_dir: '/home/kp/runs/detect/predict'\n",
      "speed: {'preprocess': 1.4972686767578125, 'inference': 92.17953681945801, 'postprocess': 1.1854171752929688}\n"
     ]
    }
   ],
   "source": [
    "\n",
    "# If you are only interested in the first result (assuming single image inference):\n",
    "first_result = results[0]\n",
    "print(first_result)  # or print(first_result)\n",
    "first_result.show()"
   ]
  },
  {
   "cell_type": "code",
   "execution_count": null,
   "id": "14530e3d-d825-4d75-92b5-7f9edbf0d6c5",
   "metadata": {},
   "outputs": [],
   "source": []
  }
 ],
 "metadata": {
  "kernelspec": {
   "display_name": "Python 3 (ipykernel)",
   "language": "python",
   "name": "python3"
  },
  "language_info": {
   "codemirror_mode": {
    "name": "ipython",
    "version": 3
   },
   "file_extension": ".py",
   "mimetype": "text/x-python",
   "name": "python",
   "nbconvert_exporter": "python",
   "pygments_lexer": "ipython3",
   "version": "3.8.19"
  }
 },
 "nbformat": 4,
 "nbformat_minor": 5
}
