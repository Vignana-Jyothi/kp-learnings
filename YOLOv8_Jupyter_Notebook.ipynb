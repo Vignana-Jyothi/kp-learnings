{
 "cells": [
  {
   "cell_type": "code",
   "execution_count": null,
   "id": "945b2870-e15a-4d4c-ba0a-c6bcc0774c3f",
   "metadata": {},
   "outputs": [],
   "source": [
    "# Import YOLOv8 from the ultralytics package\n",
    "from ultralytics import YOLO\n",
    "\n",
    "# Load a pretrained YOLOv8 model (you can also train your own model)\n",
    "model = YOLO('yolov8n.pt')  # You can change 'yolov8n.pt' to other versions like 'yolov8s.pt', 'yolov8m.pt', etc.\n",
    "\n"
   ]
  },
  {
   "cell_type": "code",
   "execution_count": null,
   "id": "be42485e-eb90-4bc3-bfc5-d17a0533a251",
   "metadata": {},
   "outputs": [],
   "source": [
    "# Load an image\n",
    "img = 'input/sample_image.jpg'  # Replace with your image path\n",
    "\n",
    "# Perform inference\n",
    "results = model(img)\n"
   ]
  },
  {
   "cell_type": "code",
   "execution_count": null,
   "id": "fcb7484e-0131-4971-b8ac-6805674e1c88",
   "metadata": {},
   "outputs": [],
   "source": [
    "\n",
    "# Since results is a list, you can iterate through it or access the first element\n",
    "for result in results:\n",
    "    # Print results\n",
    "    print(\"Printing Result\")\n",
    "    print(result)\n",
    "\n",
    "    # Show the results\n",
    "    result.show()\n",
    "\n",
    "    "
   ]
  },
  {
   "cell_type": "code",
   "execution_count": null,
   "id": "ea5fe632-b0a6-421a-aa10-df43f9d46ec3",
   "metadata": {},
   "outputs": [],
   "source": []
  },
  {
   "cell_type": "code",
   "execution_count": null,
   "id": "14530e3d-d825-4d75-92b5-7f9edbf0d6c5",
   "metadata": {},
   "outputs": [],
   "source": []
  }
 ],
 "metadata": {
  "kernelspec": {
   "display_name": "Python 3 (ipykernel)",
   "language": "python",
   "name": "python3"
  },
  "language_info": {
   "codemirror_mode": {
    "name": "ipython",
    "version": 3
   },
   "file_extension": ".py",
   "mimetype": "text/x-python",
   "name": "python",
   "nbconvert_exporter": "python",
   "pygments_lexer": "ipython3",
   "version": "3.8.19"
  }
 },
 "nbformat": 4,
 "nbformat_minor": 5
}
